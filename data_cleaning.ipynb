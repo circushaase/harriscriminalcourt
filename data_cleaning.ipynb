{
 "cells": [
  {
   "cell_type": "code",
   "execution_count": null,
   "metadata": {},
   "outputs": [],
   "source": [
    "import numpy as np\n",
    "import pandas as pd\n",
    "import datetime\n",
    "pd.options.display.max_columns = 1000"
   ]
  },
  {
   "cell_type": "code",
   "execution_count": null,
   "metadata": {},
   "outputs": [],
   "source": [
    "prost= pd.read_csv('data\\dashboard-data.csv', index_col=0)\n",
    "#prost.head()"
   ]
  },
  {
   "cell_type": "code",
   "execution_count": null,
   "metadata": {},
   "outputs": [],
   "source": [
    "prost['fda'] = pd.to_datetime(prost.fda)\n",
    "prost['dispdt'] = pd.to_datetime(prost.dispdt, format='%Y%m%d')"
   ]
  },
  {
   "cell_type": "code",
   "execution_count": null,
   "metadata": {},
   "outputs": [],
   "source": [
    "prost['disptdayofweek'] = prost.dispdt.dt.dayofweek\n",
    "prost['filedayofweek'] = prost.fda.dt.dayofweek"
   ]
  },
  {
   "cell_type": "code",
   "execution_count": null,
   "metadata": {},
   "outputs": [],
   "source": [
    "#drop duplicate \"sentence length col\"\n",
    "prost = prost.T.drop_duplicates().T"
   ]
  },
  {
   "cell_type": "code",
   "execution_count": null,
   "metadata": {},
   "outputs": [],
   "source": [
    "prost['fda'] = prost.fda.dt.normalize()"
   ]
  },
  {
   "cell_type": "code",
   "execution_count": null,
   "metadata": {},
   "outputs": [],
   "source": [
    "prost['dispdt'] = prost.dispdt.dt.normalize()"
   ]
  },
  {
   "cell_type": "code",
   "execution_count": null,
   "metadata": {},
   "outputs": [],
   "source": [
    "prost['cas'] = pd.to_numeric(prost.cas, downcast='integer')\n",
    "prost['bam'] = pd.to_numeric(prost.bam, downcast='integer')\n",
    "prost['Latitude'] = pd.to_numeric(prost.Latitude)#, downcast='integer')\n",
    "prost['Longitude'] = pd.to_numeric(prost.Longitude)#, downcast='integer')\n",
    "prost['ageatfiling'] = pd.to_numeric(prost.ageatfiling, downcast='integer')"
   ]
  },
  {
   "cell_type": "code",
   "execution_count": null,
   "metadata": {},
   "outputs": [],
   "source": [
    "prost['Latitude'] = prost.Latitude.fillna(np.mean(prost.Latitude))\n",
    "prost['bam'] = prost.bam.fillna(np.mean(prost.bam))\n",
    "prost['ageatfiling'] = prost.ageatfiling.fillna(np.mean(prost.ageatfiling))"
   ]
  },
  {
   "cell_type": "code",
   "execution_count": null,
   "metadata": {},
   "outputs": [],
   "source": [
    "prost.drop(['curr_off', 'curr_l_d', 'aty_coc', 'com_off'], axis=1, inplace=True)"
   ]
  },
  {
   "cell_type": "code",
   "execution_count": null,
   "metadata": {},
   "outputs": [],
   "source": [
    "# Group some dispositions together >>>"
   ]
  },
  {
   "cell_type": "code",
   "execution_count": null,
   "metadata": {},
   "outputs": [],
   "source": [
    "prost.disposition[prost.disposition.str.startswith('DISM', na=False)] = 'DISMISSED'"
   ]
  },
  {
   "cell_type": "code",
   "execution_count": null,
   "metadata": {},
   "outputs": [],
   "source": [
    "# only one instance of \"Acq Jury Verdict' --seems it should be labeled 'Acq by Jury instead'\n",
    "prost.disposition[prost.disposition == 'ACQ JURY VERDICT'] = 'ACQUITTAL BY JURY'"
   ]
  },
  {
   "cell_type": "code",
   "execution_count": null,
   "metadata": {},
   "outputs": [],
   "source": [
    "#only one instance of \"No Bill\" --- seems it should be labeled \"No Billed\"\n",
    "prost.disposition[prost.disposition == 'NO BILL'] = 'NO BILLED'"
   ]
  },
  {
   "cell_type": "code",
   "execution_count": null,
   "metadata": {},
   "outputs": [],
   "source": [
    "#drop only case with \"PROB/DADJ TERMED - DEF DECEASED\" as it seems to be an outlier/exception\n",
    "prost = prost[prost.disposition != 'PROB/DADJ TERMED - DEF DECEASED']"
   ]
  },
  {
   "cell_type": "code",
   "execution_count": null,
   "metadata": {},
   "outputs": [],
   "source": [
    "#only one instance of CONVICTION BY TRIAL TO COURT  -- seems it should be labeled CONVICTION BY JURY\n",
    "prost.disposition[prost.disposition == 'CONVICTION BY TRIAL TO COURT'] = 'CONVICTION BY JURY'"
   ]
  },
  {
   "cell_type": "code",
   "execution_count": null,
   "metadata": {},
   "outputs": [],
   "source": [
    "#only one instance of DIRECTED VERDICT OF NOT GUILTY  -- seems it should be combined with NOT GUILTY PLEA - JURY VERDICT\n",
    "prost.disposition[prost.disposition == 'DIRECTED VERDICT OF NOT GUILTY'] = 'NOT GUILTY PLEA - JURY VERDICT'"
   ]
  },
  {
   "cell_type": "code",
   "execution_count": null,
   "metadata": {},
   "outputs": [],
   "source": [
    "#only one instance of LESSER OFF. NOT GUILTY PLEA-JURY VERDICT  -- seems it should be combined with NOT GUILTY PLEA - JURY VERDICT\n",
    "prost.disposition[prost.disposition == 'LESSER OFF. NOT GUILTY PLEA-JURY VERDICT'] = 'NOT GUILTY PLEA - JURY VERDICT'"
   ]
  },
  {
   "cell_type": "code",
   "execution_count": null,
   "metadata": {},
   "outputs": [],
   "source": [
    "#only one instance of REDUCED TO MISD.  -- seems it should be combined with LESSER OFF. GUILTY PLEA - NO JURY\n",
    "prost.disposition[prost.disposition == 'REDUCED TO MISD.'] = 'LESSER OFF. GUILTY PLEA - NO JURY'"
   ]
  },
  {
   "cell_type": "code",
   "execution_count": null,
   "metadata": {},
   "outputs": [],
   "source": [
    "prost.to_csv('clean_2010_2017.csv')"
   ]
  },
  {
   "cell_type": "code",
   "execution_count": null,
   "metadata": {},
   "outputs": [],
   "source": []
  },
  {
   "cell_type": "code",
   "execution_count": null,
   "metadata": {},
   "outputs": [],
   "source": []
  },
  {
   "cell_type": "code",
   "execution_count": null,
   "metadata": {},
   "outputs": [],
   "source": []
  },
  {
   "cell_type": "code",
   "execution_count": null,
   "metadata": {},
   "outputs": [],
   "source": []
  }
 ],
 "metadata": {
  "kernelspec": {
   "display_name": "Python 3",
   "language": "python",
   "name": "python3"
  },
  "language_info": {
   "codemirror_mode": {
    "name": "ipython",
    "version": 3
   },
   "file_extension": ".py",
   "mimetype": "text/x-python",
   "name": "python",
   "nbconvert_exporter": "python",
   "pygments_lexer": "ipython3",
   "version": "3.6.3"
  }
 },
 "nbformat": 4,
 "nbformat_minor": 2
}
